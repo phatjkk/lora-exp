{
 "cells": [
  {
   "cell_type": "code",
   "execution_count": 19,
   "id": "e61c889b",
   "metadata": {},
   "outputs": [
    {
     "name": "stdout",
     "output_type": "stream",
     "text": [
      " * Serving Flask app '__main__'\n",
      " * Debug mode: off\n"
     ]
    },
    {
     "name": "stderr",
     "output_type": "stream",
     "text": [
      "WARNING: This is a development server. Do not use it in a production deployment. Use a production WSGI server instead.\n",
      " * Running on http://127.0.0.1:8000\n",
      "Press CTRL+C to quit\n"
     ]
    }
   ],
   "source": [
    "from transformers import AutoTokenizer, AutoModelForCausalLM\n",
    "from peft import PeftModel, PeftConfig\n",
    "from flask import Flask, jsonify, request\n",
    "from flask_cors import CORS\n",
    "import torch\n",
    "import re\n",
    "model_path = \"./bloomz-lora-vi-chatbot/bloomz-lora-en-ecommerce\"\n",
    "config = PeftConfig.from_pretrained(model_path)\n",
    "\n",
    "# load base LLM model and tokenizer\n",
    "tokenizer_from_file = AutoTokenizer.from_pretrained(config.base_model_name_or_path)\n",
    "model_from_file = AutoModelForCausalLM.from_pretrained(config.base_model_name_or_path)\n",
    "\n",
    "\n",
    "# configuration\n",
    "DEBUG = True\n",
    " \n",
    "# instantiate the app\n",
    "app = Flask(__name__)\n",
    "app.config.from_object(__name__)\n",
    " \n",
    "# enable CORS\n",
    "CORS(app, resources={r'/*': {'origins': '*'}})\n",
    "\n",
    "@app.route('/search', methods=['GET'])\n",
    "def receive_string():\n",
    "    string = request.args\n",
    "\n",
    "    string_get = string.get(\"message\")\n",
    "    # do something with the string\n",
    "    print(string.get(\"message\"))\n",
    "    \n",
    "    question3 = string_get\n",
    "    prompt = \"Hỏi:\"+ question3 + '''\n",
    "        Đáp:'''\n",
    "    prompt\n",
    "    # In ra kết quả\n",
    "    inputs = tokenizer_from_file( prompt, return_tensors=\"pt\")\n",
    "    # Do biến inputs được lưu trên cpu mà model thì load trên gpu nên phải chuyển\n",
    "    # biến này lên gpu bằng hàm .to(\"cuda\")\n",
    "    data = {}\n",
    "    outputs = model_from_file.generate(input_ids=inputs[\"input_ids\"],\n",
    "                            max_new_tokens=100,\n",
    "                            no_repeat_ngram_size=3,\n",
    "                            num_beams=3,\n",
    "                            num_return_sequences=1)\n",
    "    \n",
    "    answer = tokenizer_from_file.batch_decode(outputs.detach().cpu().numpy(), skip_special_tokens=True)\n",
    "    \n",
    "    answer = re.findall(r\"(?<=Đáp: ).*\", answer)[0]\n",
    "    \n",
    "    data = {\"answer\": answer}\n",
    "    return jsonify(data)\n",
    "\n",
    "if __name__ == '__main__':\n",
    "    app.run(port=8000, debug=False)"
   ]
  },
  {
   "cell_type": "code",
   "execution_count": null,
   "id": "cca92515",
   "metadata": {},
   "outputs": [],
   "source": []
  }
 ],
 "metadata": {
  "kernelspec": {
   "display_name": "Python 3 (ipykernel)",
   "language": "python",
   "name": "python3"
  },
  "language_info": {
   "codemirror_mode": {
    "name": "ipython",
    "version": 3
   },
   "file_extension": ".py",
   "mimetype": "text/x-python",
   "name": "python",
   "nbconvert_exporter": "python",
   "pygments_lexer": "ipython3",
   "version": "3.10.9"
  }
 },
 "nbformat": 4,
 "nbformat_minor": 5
}
